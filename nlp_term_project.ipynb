{
  "nbformat": 4,
  "nbformat_minor": 0,
  "metadata": {
    "colab": {
      "name": "nlp-term-project.ipynb",
      "provenance": [],
      "collapsed_sections": [],
      "toc_visible": true
    },
    "kernelspec": {
      "name": "python3",
      "display_name": "Python 3"
    }
  },
  "cells": [
    {
      "cell_type": "markdown",
      "metadata": {
        "id": "XLjY6-ulePAS",
        "colab_type": "text"
      },
      "source": [
        "## CMPE 346\n",
        "## Natural Language Processing\n",
        "\n",
        "\n",
        "\n",
        "\n",
        "---\n",
        "\n",
        "\n",
        "### Term Project Report\n",
        "\n",
        "### Spell Checker For Turkish Language Using Norvig’s Spell Checker Algorithm\n",
        "\n",
        "\n",
        "\n",
        "\n",
        "---\n",
        "\n",
        "\n",
        "#### By\n",
        "#### Group Members\n",
        "#### Ali BEYAZ - 113200050\n",
        "#### Burak GÜLER - 11575012\n",
        "#### Efe HEPDOĞAN - 112200062\n",
        "\n",
        "---\n",
        "\n",
        "Dataset Linki: https://drive.google.com/drive/folders/1ng8TNk6EY0fwJDJpzS1J2kLjra-KWrKc?usp=sharing\n",
        "\n"
      ]
    },
    {
      "cell_type": "code",
      "metadata": {
        "id": "Dl1FOKkFkOGb",
        "colab_type": "code",
        "colab": {}
      },
      "source": [
        "import re\n",
        "from collections import Counter"
      ],
      "execution_count": null,
      "outputs": []
    },
    {
      "cell_type": "code",
      "metadata": {
        "id": "Ju1tq73BkP3s",
        "colab_type": "code",
        "colab": {}
      },
      "source": [
        "def words(text): return re.findall(r'\\w+', text.lower())\n",
        "#WORDS = Counter(words(open('/content/drive/My Drive/Courses 2020/cmpe 346/term-project/data_X.txt').read()))\n",
        "WORDS = Counter(words(open('/content/drive/My Drive/Courses 2020/cmpe 346/term-project/final-dataset.txt').read()))"
      ],
      "execution_count": null,
      "outputs": []
    },
    {
      "cell_type": "code",
      "metadata": {
        "id": "R-Ts2baKkzlb",
        "colab_type": "code",
        "colab": {}
      },
      "source": [
        "def P(word, N=sum(WORDS.values())): \n",
        "    \"Probability of `word`.\"\n",
        "    return WORDS[word] / N\n",
        "\n",
        "def correction(word): \n",
        "    \"Most probable spelling correction for word.\"\n",
        "    return max(candidates(word), key=P)\n",
        "\n",
        "def candidates(word): \n",
        "    \"Generate possible spelling corrections for word.\"\n",
        "    return (known([word]) or known(edits1(word)) or known(edits2(word)) or [word])\n",
        "\n",
        "def known(words): \n",
        "    \"The subset of `words` that appear in the dictionary of WORDS.\"\n",
        "    return set(w for w in words if w in WORDS)\n",
        "\n",
        "def edits1(word):\n",
        "    \"All edits that are one edit away from `word`.\"\n",
        "    letters    = 'abcçdefghıijklmnoöpqrsştuüvwxyz'\n",
        "    splits     = [(word[:i], word[i:])    for i in range(len(word) + 1)]\n",
        "    deletes    = [L + R[1:]               for L, R in splits if R]\n",
        "    transposes = [L + R[1] + R[0] + R[2:] for L, R in splits if len(R)>1]\n",
        "    replaces   = [L + c + R[1:]           for L, R in splits if R for c in letters]\n",
        "    inserts    = [L + c + R               for L, R in splits for c in letters]\n",
        "    return set(deletes + transposes + replaces + inserts)\n",
        "\n",
        "def edits2(word): \n",
        "    \"All edits that are two edits away from `word`.\"\n",
        "    return (e2 for e1 in edits1(word) for e2 in edits1(e1))"
      ],
      "execution_count": null,
      "outputs": []
    },
    {
      "cell_type": "code",
      "metadata": {
        "id": "3kKfh3f4l-kT",
        "colab_type": "code",
        "colab": {
          "base_uri": "https://localhost:8080/",
          "height": 35
        },
        "outputId": "6e92b3ae-f0bb-402c-b04f-9ceff8984b2f"
      },
      "source": [
        "len(WORDS)"
      ],
      "execution_count": null,
      "outputs": [
        {
          "output_type": "execute_result",
          "data": {
            "text/plain": [
              "1277621"
            ]
          },
          "metadata": {
            "tags": []
          },
          "execution_count": 6
        }
      ]
    },
    {
      "cell_type": "code",
      "metadata": {
        "id": "NoeU2Bkzl_n4",
        "colab_type": "code",
        "colab": {
          "base_uri": "https://localhost:8080/",
          "height": 35
        },
        "outputId": "b8e0e3fe-675e-4867-de52-b264c6e2f0f6"
      },
      "source": [
        "sum(WORDS.values())"
      ],
      "execution_count": null,
      "outputs": [
        {
          "output_type": "execute_result",
          "data": {
            "text/plain": [
              "8312849"
            ]
          },
          "metadata": {
            "tags": []
          },
          "execution_count": 7
        }
      ]
    },
    {
      "cell_type": "code",
      "metadata": {
        "id": "zM_8Ey-rmC3L",
        "colab_type": "code",
        "colab": {
          "base_uri": "https://localhost:8080/",
          "height": 197
        },
        "outputId": "84dfe92d-a95b-45d4-ba3c-7d420da9c210"
      },
      "source": [
        "WORDS.most_common(10)"
      ],
      "execution_count": null,
      "outputs": [
        {
          "output_type": "execute_result",
          "data": {
            "text/plain": [
              "[('ve', 136599),\n",
              " ('bir', 117191),\n",
              " ('da', 76104),\n",
              " ('de', 68571),\n",
              " ('bu', 63819),\n",
              " ('nin', 49445),\n",
              " ('için', 43832),\n",
              " ('türkiye', 39201),\n",
              " ('ın', 33799),\n",
              " ('ile', 32622)]"
            ]
          },
          "metadata": {
            "tags": []
          },
          "execution_count": 50
        }
      ]
    },
    {
      "cell_type": "code",
      "metadata": {
        "id": "Y4xCKKBSJ2yC",
        "colab_type": "code",
        "colab": {
          "base_uri": "https://localhost:8080/",
          "height": 35
        },
        "outputId": "ff24e434-3cb3-45c4-d029-982aec654fbb"
      },
      "source": [
        "known(edits1('bardklar'))"
      ],
      "execution_count": null,
      "outputs": [
        {
          "output_type": "execute_result",
          "data": {
            "text/plain": [
              "{'baraklar', 'bardaklar', 'bardalar'}"
            ]
          },
          "metadata": {
            "tags": []
          },
          "execution_count": 12
        }
      ]
    },
    {
      "cell_type": "code",
      "metadata": {
        "id": "DvvC52tJCeUr",
        "colab_type": "code",
        "colab": {
          "base_uri": "https://localhost:8080/",
          "height": 35
        },
        "outputId": "a6e62180-785f-4839-b1db-a575973b8617"
      },
      "source": [
        "known(edits1('düşüdnüm'))"
      ],
      "execution_count": null,
      "outputs": [
        {
          "output_type": "execute_result",
          "data": {
            "text/plain": [
              "{'düşündüm', 'düşünüm'}"
            ]
          },
          "metadata": {
            "tags": []
          },
          "execution_count": 52
        }
      ]
    },
    {
      "cell_type": "code",
      "metadata": {
        "id": "O_I_6XkLmbWE",
        "colab_type": "code",
        "colab": {
          "base_uri": "https://localhost:8080/",
          "height": 1000
        },
        "outputId": "7a8599d7-09d0-4997-e950-34bb239b422a"
      },
      "source": [
        "known(edits2('bardklar'))"
      ],
      "execution_count": null,
      "outputs": [
        {
          "output_type": "execute_result",
          "data": {
            "text/plain": [
              "{'araklar',\n",
              " 'ardalar',\n",
              " 'arklar',\n",
              " 'arıklar',\n",
              " 'bacaklar',\n",
              " 'balıklar',\n",
              " 'bandolar',\n",
              " 'banklar',\n",
              " 'barajlar',\n",
              " 'barakalar',\n",
              " 'barakla',\n",
              " 'baraklar',\n",
              " 'baranlar',\n",
              " 'barcılar',\n",
              " 'bardakla',\n",
              " 'bardaklar',\n",
              " 'bardaklara',\n",
              " 'bardakları',\n",
              " 'bardalar',\n",
              " 'barkla',\n",
              " 'barkları',\n",
              " 'barkodlar',\n",
              " 'barlar',\n",
              " 'barokla',\n",
              " 'barolar',\n",
              " 'baronlar',\n",
              " 'barsaklar',\n",
              " 'barsalar',\n",
              " 'bartular',\n",
              " 'barutlar',\n",
              " 'barçalar',\n",
              " 'barışlar',\n",
              " 'basaklar',\n",
              " 'basklar',\n",
              " 'bataklar',\n",
              " 'batıklar',\n",
              " 'baydılar',\n",
              " 'bayraklar',\n",
              " 'başaklar',\n",
              " 'boraklar',\n",
              " 'bordalar',\n",
              " 'bordolar',\n",
              " 'buraklar',\n",
              " 'buruklar',\n",
              " 'farklar',\n",
              " 'gardlar',\n",
              " 'kardılar',\n",
              " 'karıklar',\n",
              " 'marklar',\n",
              " 'nardılar',\n",
              " 'parklar',\n",
              " 'sardılar',\n",
              " 'sarıklar',\n",
              " 'taraklar',\n",
              " 'tarıklar',\n",
              " 'varaklar',\n",
              " 'vardıklar',\n",
              " 'vardılar',\n",
              " 'yaraklar',\n",
              " 'yardılar',\n",
              " 'yarıklar',\n",
              " 'zardılar',\n",
              " 'çardaklar',\n",
              " 'çarklar',\n",
              " 'çarıklar'}"
            ]
          },
          "metadata": {
            "tags": []
          },
          "execution_count": 13
        }
      ]
    },
    {
      "cell_type": "code",
      "metadata": {
        "id": "WuCiWatS_W1Z",
        "colab_type": "code",
        "colab": {
          "base_uri": "https://localhost:8080/",
          "height": 197
        },
        "outputId": "0f1a8d1d-ba2d-4ad2-a0b3-1d37eeae2567"
      },
      "source": [
        "WORDS.most_common(10)"
      ],
      "execution_count": null,
      "outputs": [
        {
          "output_type": "execute_result",
          "data": {
            "text/plain": [
              "[('ve', 136599),\n",
              " ('bir', 117191),\n",
              " ('da', 76104),\n",
              " ('de', 68571),\n",
              " ('bu', 63819),\n",
              " ('nin', 49445),\n",
              " ('için', 43832),\n",
              " ('türkiye', 39201),\n",
              " ('ın', 33799),\n",
              " ('ile', 32622)]"
            ]
          },
          "metadata": {
            "tags": []
          },
          "execution_count": 54
        }
      ]
    },
    {
      "cell_type": "code",
      "metadata": {
        "id": "r7ud9ZRg_2aK",
        "colab_type": "code",
        "colab": {
          "base_uri": "https://localhost:8080/",
          "height": 35
        },
        "outputId": "10216371-c948-45e2-ede4-292c7eed38fb"
      },
      "source": [
        "P('ve')"
      ],
      "execution_count": null,
      "outputs": [
        {
          "output_type": "execute_result",
          "data": {
            "text/plain": [
              "0.016432272497671978"
            ]
          },
          "metadata": {
            "tags": []
          },
          "execution_count": 55
        }
      ]
    },
    {
      "cell_type": "code",
      "metadata": {
        "id": "7-KNNEqSEq6P",
        "colab_type": "code",
        "colab": {
          "base_uri": "https://localhost:8080/",
          "height": 35
        },
        "outputId": "a15980c0-105f-41c4-c164-d94adc3671ed"
      },
      "source": [
        "P('bilinirlik')"
      ],
      "execution_count": null,
      "outputs": [
        {
          "output_type": "execute_result",
          "data": {
            "text/plain": [
              "0.0"
            ]
          },
          "metadata": {
            "tags": []
          },
          "execution_count": 11
        }
      ]
    },
    {
      "cell_type": "code",
      "metadata": {
        "id": "Z0P2spTA_LJ4",
        "colab_type": "code",
        "colab": {
          "base_uri": "https://localhost:8080/",
          "height": 53
        },
        "outputId": "2574f00a-4521-4d2a-c25c-988d66a8c10f"
      },
      "source": [
        "def unit_tests():\n",
        "    assert correction('çözüsüzlüğün') == 'çözümsüzlüğün'             # insert\n",
        "    assert correction('balşayan') == 'başlayan'                      # replace 2\n",
        "    assert correction('çözebılirdik') == 'çözebilirdik'              # replace\n",
        "    assert correction('belirlenmemşti') == 'belirlenmemişti'         # insert \n",
        "    assert correction('imdiadına') == 'imdadına'                     # delete\n",
        "    assert correction('şühpelenen') =='şüphelenen'                   # transpose\n",
        "    assert correction('daeiresi') =='dairesi'                        # transpose + delete\n",
        "    assert correction('itibaren') == 'itibaren'                      # known\n",
        "    assert len(WORDS) == 1277621\n",
        "    assert sum(WORDS.values()) == 8312849\n",
        "    assert WORDS.most_common(10) == [\n",
        "           ('ve', 136599),\n",
        "           ('bir', 117191),\n",
        "           ('da', 76104),\n",
        "           ('de', 68571),\n",
        "           ('bu', 63819),\n",
        "           ('nin', 49445),\n",
        "           ('için', 43832),\n",
        "           ('türkiye', 39201),\n",
        "           ('ın', 33799),\n",
        "           ('ile', 32622)]\n",
        "    assert WORDS['ve'] == 136599\n",
        "    assert P('bilinirlik') == 0\n",
        "    assert 0.01 < P('ve') < 0.02\n",
        "    return 'unit_tests pass'\n",
        "\n",
        "def spelltest(tests, verbose=False):\n",
        "    \"Run correction(wrong) on all (right, wrong) pairs; report results.\"\n",
        "    import time\n",
        "    start = time.clock()\n",
        "    good, unknown = 0, 0\n",
        "    n = len(tests)\n",
        "    for right, wrong in tests:\n",
        "        w = correction(wrong)\n",
        "        good += (w == right)\n",
        "        if w != right:\n",
        "            unknown += (right not in WORDS)\n",
        "            if verbose:\n",
        "                print('correction({}) => {} ({}); expected {} ({})'\n",
        "                      .format(wrong, w, WORDS[w], right, WORDS[right]))\n",
        "    dt = time.clock() - start\n",
        "    print('{:.0%} of {} correct ({:.0%} unknown) at {:.0f} words per second '\n",
        "          .format(good / n, n, unknown / n, n / dt))\n",
        "    \n",
        "def Testset(lines):\n",
        "    \"Parse 'right: wrong1 wrong2' lines into [('right', 'wrong1'), ('right', 'wrong2')] pairs.\"\n",
        "    return [(right, wrong)\n",
        "            for (right, wrongs) in (line.split(':') for line in lines)\n",
        "            for wrong in wrongs.split()]\n",
        "\n",
        "print(unit_tests())\n",
        "spelltest(Testset(open('/content/drive/My Drive/Courses 2020/cmpe 346/term-project/test-case3.1.txt'))) # Data testset"
      ],
      "execution_count": null,
      "outputs": [
        {
          "output_type": "stream",
          "text": [
            "unit_tests pass\n",
            "61% of 895 correct (1% unknown) at 33 words per second \n"
          ],
          "name": "stdout"
        }
      ]
    }
  ]
}